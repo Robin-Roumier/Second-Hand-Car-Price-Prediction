{
 "cells": [
  {
   "cell_type": "markdown",
   "id": "4bba28ef",
   "metadata": {},
   "source": [
    "# Data Extract"
   ]
  },
  {
   "cell_type": "code",
   "execution_count": null,
   "id": "93934840",
   "metadata": {
    "scrolled": false
   },
   "outputs": [
    {
     "name": "stdout",
     "output_type": "stream",
     "text": [
      "         VIN      County       City State  Postal_Code  Model_Year   Make  \\\n",
      "0  5YJYGDEE1L       King    Seattle    WA      98122.0        2020  TESLA   \n",
      "1  7SAYGDEE9P  Snohomish    Bothell    WA      98021.0        2023  TESLA   \n",
      "2  5YJSA1E4XK       King    Seattle    WA      98109.0        2019  TESLA   \n",
      "3  5YJSA1E27G       King   Issaquah    WA      98027.0        2016  TESLA   \n",
      "4  5YJYGDEE5M     Kitsap  Suquamish    WA      98392.0        2021  TESLA   \n",
      "\n",
      "     Model           Electric_Vehicle_Type  \\\n",
      "0  MODEL Y  Battery Electric Vehicle (BEV)   \n",
      "1  MODEL Y  Battery Electric Vehicle (BEV)   \n",
      "2  MODEL S  Battery Electric Vehicle (BEV)   \n",
      "3  MODEL S  Battery Electric Vehicle (BEV)   \n",
      "4  MODEL Y  Battery Electric Vehicle (BEV)   \n",
      "\n",
      "                                                CAFV  Electric_Range  \\\n",
      "0            Clean Alternative Fuel Vehicle Eligible             291   \n",
      "1  Eligibility unknown as battery range has not b...               0   \n",
      "2            Clean Alternative Fuel Vehicle Eligible             270   \n",
      "3            Clean Alternative Fuel Vehicle Eligible             210   \n",
      "4  Eligibility unknown as battery range has not b...               0   \n",
      "\n",
      "   Base_MSRP  Legislative_District  DOL_Vehicle ID  \\\n",
      "0          0                  37.0       125701579   \n",
      "1          0                   1.0       244285107   \n",
      "2          0                  36.0       156773144   \n",
      "3          0                   5.0       165103011   \n",
      "4          0                  23.0       205138552   \n",
      "\n",
      "                Vehicle_Location  \\\n",
      "0   POINT (-122.30839 47.610365)   \n",
      "1  POINT (-122.179458 47.802589)   \n",
      "2   POINT (-122.34848 47.632405)   \n",
      "3   POINT (-122.03646 47.534065)   \n",
      "4   POINT (-122.55717 47.733415)   \n",
      "\n",
      "                                Electric_Utility  2020_Census_Tract  \n",
      "0   CITY OF SEATTLE - (WA)|CITY OF TACOMA - (WA)       5.303301e+10  \n",
      "1                         PUGET SOUND ENERGY INC       5.306105e+10  \n",
      "2   CITY OF SEATTLE - (WA)|CITY OF TACOMA - (WA)       5.303301e+10  \n",
      "3  PUGET SOUND ENERGY INC||CITY OF TACOMA - (WA)       5.303303e+10  \n",
      "4                         PUGET SOUND ENERGY INC       5.303594e+10  \n"
     ]
    }
   ],
   "source": [
    "import pandas as pd\n",
    "from flask import Flask, render_template, request\n",
    "from sqlalchemy import create_engine\n",
    "df = pd.read_csv('/Users/Documents/Project/Sheet 1-1-Electric_Vehicle_Population_Data 2.csv')\n",
    "print(df.head())"
   ]
  },
  {
   "cell_type": "markdown",
   "id": "9c79f952",
   "metadata": {},
   "source": [
    "# Data Transform"
   ]
  },
  {
   "cell_type": "markdown",
   "id": "2b4d3b33",
   "metadata": {},
   "source": [
    "## Only Remain WA State data"
   ]
  },
  {
   "cell_type": "code",
   "execution_count": 2,
   "id": "188a5ed4",
   "metadata": {},
   "outputs": [
    {
     "name": "stdout",
     "output_type": "stream",
     "text": [
      "         VIN      County       City State  Postal_Code  Model_Year   Make  \\\n",
      "0  5YJYGDEE1L       King    Seattle    WA      98122.0        2020  TESLA   \n",
      "1  7SAYGDEE9P  Snohomish    Bothell    WA      98021.0        2023  TESLA   \n",
      "2  5YJSA1E4XK       King    Seattle    WA      98109.0        2019  TESLA   \n",
      "3  5YJSA1E27G       King   Issaquah    WA      98027.0        2016  TESLA   \n",
      "4  5YJYGDEE5M     Kitsap  Suquamish    WA      98392.0        2021  TESLA   \n",
      "\n",
      "     Model           Electric_Vehicle_Type  \\\n",
      "0  MODEL Y  Battery Electric Vehicle (BEV)   \n",
      "1  MODEL Y  Battery Electric Vehicle (BEV)   \n",
      "2  MODEL S  Battery Electric Vehicle (BEV)   \n",
      "3  MODEL S  Battery Electric Vehicle (BEV)   \n",
      "4  MODEL Y  Battery Electric Vehicle (BEV)   \n",
      "\n",
      "                                                CAFV  Electric_Range  \\\n",
      "0            Clean Alternative Fuel Vehicle Eligible             291   \n",
      "1  Eligibility unknown as battery range has not b...               0   \n",
      "2            Clean Alternative Fuel Vehicle Eligible             270   \n",
      "3            Clean Alternative Fuel Vehicle Eligible             210   \n",
      "4  Eligibility unknown as battery range has not b...               0   \n",
      "\n",
      "   Base_MSRP  Legislative_District  DOL_Vehicle ID  \\\n",
      "0          0                  37.0       125701579   \n",
      "1          0                   1.0       244285107   \n",
      "2          0                  36.0       156773144   \n",
      "3          0                   5.0       165103011   \n",
      "4          0                  23.0       205138552   \n",
      "\n",
      "                Vehicle_Location  \\\n",
      "0   POINT (-122.30839 47.610365)   \n",
      "1  POINT (-122.179458 47.802589)   \n",
      "2   POINT (-122.34848 47.632405)   \n",
      "3   POINT (-122.03646 47.534065)   \n",
      "4   POINT (-122.55717 47.733415)   \n",
      "\n",
      "                                Electric_Utility  2020_Census_Tract  \n",
      "0   CITY OF SEATTLE - (WA)|CITY OF TACOMA - (WA)       5.303301e+10  \n",
      "1                         PUGET SOUND ENERGY INC       5.306105e+10  \n",
      "2   CITY OF SEATTLE - (WA)|CITY OF TACOMA - (WA)       5.303301e+10  \n",
      "3  PUGET SOUND ENERGY INC||CITY OF TACOMA - (WA)       5.303303e+10  \n",
      "4                         PUGET SOUND ENERGY INC       5.303594e+10  \n"
     ]
    }
   ],
   "source": [
    "#only remain WA data\n",
    "df = df[df['State'] == 'WA']\n",
    "print(df.head())"
   ]
  },
  {
   "cell_type": "code",
   "execution_count": 3,
   "id": "92b950e7",
   "metadata": {},
   "outputs": [
    {
     "name": "stdout",
     "output_type": "stream",
     "text": [
      "WA    177477\n",
      "Name: State, dtype: int64\n"
     ]
    }
   ],
   "source": [
    "#Check if dataset only contains WA data\n",
    "unique_strings_counts = df['State'].value_counts()\n",
    "print(unique_strings_counts)"
   ]
  },
  {
   "cell_type": "markdown",
   "id": "8840389c",
   "metadata": {},
   "source": [
    "## Remove Vehicle Location with Longitude and Latitude"
   ]
  },
  {
   "cell_type": "code",
   "execution_count": 4,
   "id": "dc46b714",
   "metadata": {
    "scrolled": true
   },
   "outputs": [
    {
     "name": "stdout",
     "output_type": "stream",
     "text": [
      "         VIN      County       City State  Postal_Code  Model_Year   Make  \\\n",
      "0  5YJYGDEE1L       King    Seattle    WA      98122.0        2020  TESLA   \n",
      "1  7SAYGDEE9P  Snohomish    Bothell    WA      98021.0        2023  TESLA   \n",
      "2  5YJSA1E4XK       King    Seattle    WA      98109.0        2019  TESLA   \n",
      "3  5YJSA1E27G       King   Issaquah    WA      98027.0        2016  TESLA   \n",
      "4  5YJYGDEE5M     Kitsap  Suquamish    WA      98392.0        2021  TESLA   \n",
      "\n",
      "     Model           Electric_Vehicle_Type  \\\n",
      "0  MODEL Y  Battery Electric Vehicle (BEV)   \n",
      "1  MODEL Y  Battery Electric Vehicle (BEV)   \n",
      "2  MODEL S  Battery Electric Vehicle (BEV)   \n",
      "3  MODEL S  Battery Electric Vehicle (BEV)   \n",
      "4  MODEL Y  Battery Electric Vehicle (BEV)   \n",
      "\n",
      "                                                CAFV  Electric_Range  \\\n",
      "0            Clean Alternative Fuel Vehicle Eligible             291   \n",
      "1  Eligibility unknown as battery range has not b...               0   \n",
      "2            Clean Alternative Fuel Vehicle Eligible             270   \n",
      "3            Clean Alternative Fuel Vehicle Eligible             210   \n",
      "4  Eligibility unknown as battery range has not b...               0   \n",
      "\n",
      "   Base_MSRP  Legislative_District  DOL_Vehicle ID         Vehicle_Location  \\\n",
      "0          0                  37.0       125701579   (-122.30839 47.610365)   \n",
      "1          0                   1.0       244285107  (-122.179458 47.802589)   \n",
      "2          0                  36.0       156773144   (-122.34848 47.632405)   \n",
      "3          0                   5.0       165103011   (-122.03646 47.534065)   \n",
      "4          0                  23.0       205138552   (-122.55717 47.733415)   \n",
      "\n",
      "                                Electric_Utility  2020_Census_Tract  \n",
      "0   CITY OF SEATTLE - (WA)|CITY OF TACOMA - (WA)       5.303301e+10  \n",
      "1                         PUGET SOUND ENERGY INC       5.306105e+10  \n",
      "2   CITY OF SEATTLE - (WA)|CITY OF TACOMA - (WA)       5.303301e+10  \n",
      "3  PUGET SOUND ENERGY INC||CITY OF TACOMA - (WA)       5.303303e+10  \n",
      "4                         PUGET SOUND ENERGY INC       5.303594e+10  \n"
     ]
    }
   ],
   "source": [
    "#remove \"point\" letters in Vehicle_Location column\n",
    "df['Vehicle_Location'] = df['Vehicle_Location'].str.replace('POINT ', '')\n",
    "print(df.head())"
   ]
  },
  {
   "cell_type": "code",
   "execution_count": 5,
   "id": "846d8ee2",
   "metadata": {},
   "outputs": [
    {
     "name": "stdout",
     "output_type": "stream",
     "text": [
      "         VIN      County       City State  Postal_Code  Model_Year   Make  \\\n",
      "0  5YJYGDEE1L       King    Seattle    WA      98122.0        2020  TESLA   \n",
      "1  7SAYGDEE9P  Snohomish    Bothell    WA      98021.0        2023  TESLA   \n",
      "2  5YJSA1E4XK       King    Seattle    WA      98109.0        2019  TESLA   \n",
      "3  5YJSA1E27G       King   Issaquah    WA      98027.0        2016  TESLA   \n",
      "4  5YJYGDEE5M     Kitsap  Suquamish    WA      98392.0        2021  TESLA   \n",
      "\n",
      "     Model           Electric_Vehicle_Type  \\\n",
      "0  MODEL Y  Battery Electric Vehicle (BEV)   \n",
      "1  MODEL Y  Battery Electric Vehicle (BEV)   \n",
      "2  MODEL S  Battery Electric Vehicle (BEV)   \n",
      "3  MODEL S  Battery Electric Vehicle (BEV)   \n",
      "4  MODEL Y  Battery Electric Vehicle (BEV)   \n",
      "\n",
      "                                                CAFV  Electric_Range  \\\n",
      "0            Clean Alternative Fuel Vehicle Eligible             291   \n",
      "1  Eligibility unknown as battery range has not b...               0   \n",
      "2            Clean Alternative Fuel Vehicle Eligible             270   \n",
      "3            Clean Alternative Fuel Vehicle Eligible             210   \n",
      "4  Eligibility unknown as battery range has not b...               0   \n",
      "\n",
      "   Base_MSRP  Legislative_District  DOL_Vehicle ID         Vehicle_Location  \\\n",
      "0          0                  37.0       125701579   (-122.30839 47.610365)   \n",
      "1          0                   1.0       244285107  (-122.179458 47.802589)   \n",
      "2          0                  36.0       156773144   (-122.34848 47.632405)   \n",
      "3          0                   5.0       165103011   (-122.03646 47.534065)   \n",
      "4          0                  23.0       205138552   (-122.55717 47.733415)   \n",
      "\n",
      "                                Electric_Utility  2020_Census_Tract  \\\n",
      "0   CITY OF SEATTLE - (WA)|CITY OF TACOMA - (WA)       5.303301e+10   \n",
      "1                         PUGET SOUND ENERGY INC       5.306105e+10   \n",
      "2   CITY OF SEATTLE - (WA)|CITY OF TACOMA - (WA)       5.303301e+10   \n",
      "3  PUGET SOUND ENERGY INC||CITY OF TACOMA - (WA)       5.303303e+10   \n",
      "4                         PUGET SOUND ENERGY INC       5.303594e+10   \n",
      "\n",
      "     longitude   latitude  \n",
      "0   -122.30839  47.610365  \n",
      "1  -122.179458  47.802589  \n",
      "2   -122.34848  47.632405  \n",
      "3   -122.03646  47.534065  \n",
      "4   -122.55717  47.733415  \n"
     ]
    }
   ],
   "source": [
    "#Add longitude and latitude\n",
    "df[['longitude', 'latitude']] = df['Vehicle_Location'].str[1:-1].str.split(' ', expand=True)\n",
    "print(df.head())"
   ]
  },
  {
   "cell_type": "code",
   "execution_count": 6,
   "id": "1cf799ca",
   "metadata": {},
   "outputs": [],
   "source": [
    "#Drop Vehicle_Location column\n",
    "df = df.drop(\"Vehicle_Location\", axis=1)"
   ]
  },
  {
   "cell_type": "code",
   "execution_count": 7,
   "id": "dd1a9691",
   "metadata": {
    "scrolled": true
   },
   "outputs": [
    {
     "data": {
      "text/html": [
       "<div>\n",
       "<style scoped>\n",
       "    .dataframe tbody tr th:only-of-type {\n",
       "        vertical-align: middle;\n",
       "    }\n",
       "\n",
       "    .dataframe tbody tr th {\n",
       "        vertical-align: top;\n",
       "    }\n",
       "\n",
       "    .dataframe thead th {\n",
       "        text-align: right;\n",
       "    }\n",
       "</style>\n",
       "<table border=\"1\" class=\"dataframe\">\n",
       "  <thead>\n",
       "    <tr style=\"text-align: right;\">\n",
       "      <th></th>\n",
       "      <th>VIN</th>\n",
       "      <th>County</th>\n",
       "      <th>City</th>\n",
       "      <th>State</th>\n",
       "      <th>Postal_Code</th>\n",
       "      <th>Model_Year</th>\n",
       "      <th>Make</th>\n",
       "      <th>Model</th>\n",
       "      <th>Electric_Vehicle_Type</th>\n",
       "      <th>CAFV</th>\n",
       "      <th>Electric_Range</th>\n",
       "      <th>Base_MSRP</th>\n",
       "      <th>Legislative_District</th>\n",
       "      <th>DOL_Vehicle ID</th>\n",
       "      <th>Electric_Utility</th>\n",
       "      <th>2020_Census_Tract</th>\n",
       "      <th>longitude</th>\n",
       "      <th>latitude</th>\n",
       "    </tr>\n",
       "  </thead>\n",
       "  <tbody>\n",
       "    <tr>\n",
       "      <th>0</th>\n",
       "      <td>5YJYGDEE1L</td>\n",
       "      <td>King</td>\n",
       "      <td>Seattle</td>\n",
       "      <td>WA</td>\n",
       "      <td>98122.0</td>\n",
       "      <td>2020</td>\n",
       "      <td>TESLA</td>\n",
       "      <td>MODEL Y</td>\n",
       "      <td>Battery Electric Vehicle (BEV)</td>\n",
       "      <td>Clean Alternative Fuel Vehicle Eligible</td>\n",
       "      <td>291</td>\n",
       "      <td>0</td>\n",
       "      <td>37.0</td>\n",
       "      <td>125701579</td>\n",
       "      <td>CITY OF SEATTLE - (WA)|CITY OF TACOMA - (WA)</td>\n",
       "      <td>5.303301e+10</td>\n",
       "      <td>-122.30839</td>\n",
       "      <td>47.610365</td>\n",
       "    </tr>\n",
       "    <tr>\n",
       "      <th>1</th>\n",
       "      <td>7SAYGDEE9P</td>\n",
       "      <td>Snohomish</td>\n",
       "      <td>Bothell</td>\n",
       "      <td>WA</td>\n",
       "      <td>98021.0</td>\n",
       "      <td>2023</td>\n",
       "      <td>TESLA</td>\n",
       "      <td>MODEL Y</td>\n",
       "      <td>Battery Electric Vehicle (BEV)</td>\n",
       "      <td>Eligibility unknown as battery range has not b...</td>\n",
       "      <td>0</td>\n",
       "      <td>0</td>\n",
       "      <td>1.0</td>\n",
       "      <td>244285107</td>\n",
       "      <td>PUGET SOUND ENERGY INC</td>\n",
       "      <td>5.306105e+10</td>\n",
       "      <td>-122.179458</td>\n",
       "      <td>47.802589</td>\n",
       "    </tr>\n",
       "    <tr>\n",
       "      <th>2</th>\n",
       "      <td>5YJSA1E4XK</td>\n",
       "      <td>King</td>\n",
       "      <td>Seattle</td>\n",
       "      <td>WA</td>\n",
       "      <td>98109.0</td>\n",
       "      <td>2019</td>\n",
       "      <td>TESLA</td>\n",
       "      <td>MODEL S</td>\n",
       "      <td>Battery Electric Vehicle (BEV)</td>\n",
       "      <td>Clean Alternative Fuel Vehicle Eligible</td>\n",
       "      <td>270</td>\n",
       "      <td>0</td>\n",
       "      <td>36.0</td>\n",
       "      <td>156773144</td>\n",
       "      <td>CITY OF SEATTLE - (WA)|CITY OF TACOMA - (WA)</td>\n",
       "      <td>5.303301e+10</td>\n",
       "      <td>-122.34848</td>\n",
       "      <td>47.632405</td>\n",
       "    </tr>\n",
       "  </tbody>\n",
       "</table>\n",
       "</div>"
      ],
      "text/plain": [
       "         VIN      County     City State  Postal_Code  Model_Year   Make  \\\n",
       "0  5YJYGDEE1L       King  Seattle    WA      98122.0        2020  TESLA   \n",
       "1  7SAYGDEE9P  Snohomish  Bothell    WA      98021.0        2023  TESLA   \n",
       "2  5YJSA1E4XK       King  Seattle    WA      98109.0        2019  TESLA   \n",
       "\n",
       "     Model           Electric_Vehicle_Type  \\\n",
       "0  MODEL Y  Battery Electric Vehicle (BEV)   \n",
       "1  MODEL Y  Battery Electric Vehicle (BEV)   \n",
       "2  MODEL S  Battery Electric Vehicle (BEV)   \n",
       "\n",
       "                                                CAFV  Electric_Range  \\\n",
       "0            Clean Alternative Fuel Vehicle Eligible             291   \n",
       "1  Eligibility unknown as battery range has not b...               0   \n",
       "2            Clean Alternative Fuel Vehicle Eligible             270   \n",
       "\n",
       "   Base_MSRP  Legislative_District  DOL_Vehicle ID  \\\n",
       "0          0                  37.0       125701579   \n",
       "1          0                   1.0       244285107   \n",
       "2          0                  36.0       156773144   \n",
       "\n",
       "                               Electric_Utility  2020_Census_Tract  \\\n",
       "0  CITY OF SEATTLE - (WA)|CITY OF TACOMA - (WA)       5.303301e+10   \n",
       "1                        PUGET SOUND ENERGY INC       5.306105e+10   \n",
       "2  CITY OF SEATTLE - (WA)|CITY OF TACOMA - (WA)       5.303301e+10   \n",
       "\n",
       "     longitude   latitude  \n",
       "0   -122.30839  47.610365  \n",
       "1  -122.179458  47.802589  \n",
       "2   -122.34848  47.632405  "
      ]
     },
     "execution_count": 7,
     "metadata": {},
     "output_type": "execute_result"
    }
   ],
   "source": [
    "df.head(3)"
   ]
  },
  {
   "cell_type": "markdown",
   "id": "5a02f7c0",
   "metadata": {},
   "source": [
    "# Data Loading"
   ]
  },
  {
   "cell_type": "markdown",
   "id": "712a6d0d",
   "metadata": {},
   "source": [
    "## Insert in SQL "
   ]
  },
  {
   "cell_type": "code",
   "execution_count": 3,
   "id": "27354dfa",
   "metadata": {},
   "outputs": [
    {
     "name": "stdout",
     "output_type": "stream",
     "text": [
      "Connecting to the PostgreSQL database...\n"
     ]
    }
   ],
   "source": [
    "import psycopg, os\n",
    "\n",
    "print('Connecting to the PostgreSQL database...')\n",
    "conn = psycopg.connect(\n",
    "    host=\"localhost\",\n",
    "    port='5432',\n",
    "    dbname=\"5400_project\",\n",
    "    user=\"postgres\",\n",
    "    password=\"134679\")"
   ]
  },
  {
   "cell_type": "code",
   "execution_count": 4,
   "id": "641a3628",
   "metadata": {},
   "outputs": [],
   "source": [
    "cur = conn.cursor()"
   ]
  },
  {
   "cell_type": "markdown",
   "id": "d3ddba2d",
   "metadata": {},
   "source": [
    "# Tables"
   ]
  },
  {
   "cell_type": "code",
   "execution_count": 10,
   "id": "068c82b1",
   "metadata": {},
   "outputs": [],
   "source": [
    "createCmd = \"\"\"\n",
    "CREATE TABLE vehicle_details(\n",
    "    dol_vehicle_id INT PRIMARY KEY,\n",
    "    county VARCHAR(255),\n",
    "    state VARCHAR(255),\n",
    "    city VARCHAR(255),\n",
    "    postal_code VARCHAR(255),\n",
    "    legislative_district VARCHAR,\n",
    "    census_tract VARCHAR(255),\n",
    "    longitude FLOAT,\n",
    "    latitude FLOAT\n",
    ");\n",
    "\n",
    "CREATE TABLE vehicles(\n",
    "    dol_vehicle_id INT PRIMARY KEY,\n",
    "    vin VARCHAR(17),\n",
    "    model_year INT,\n",
    "    make VARCHAR(50),\n",
    "    model VARCHAR(50),\n",
    "    electric_vehicle_type VARCHAR(100),\n",
    "    base_msrp INT,\n",
    "    electric_range INT,\n",
    "    FOREIGN KEY (dol_vehicle_id) REFERENCES vehicle_details(dol_vehicle_id)\n",
    ");\n",
    "\n",
    "CREATE TABLE utility_providers(\n",
    "    dol_vehicle_id INT PRIMARY KEY,\n",
    "    electric_utility VARCHAR(255),\n",
    "    FOREIGN KEY (dol_vehicle_id) REFERENCES vehicle_details(dol_vehicle_id)\n",
    ");\n",
    "\n",
    "CREATE TABLE CAFV_Eligibility(\n",
    "    dol_vehicle_id INT PRIMARY KEY,\n",
    "    cafv VARCHAR(255),\n",
    "    FOREIGN KEY (dol_vehicle_id) REFERENCES vehicle_details(dol_vehicle_id)\n",
    ");\n",
    "            \"\"\"\n",
    "cur.execute(createCmd)\n",
    "conn.commit()"
   ]
  },
  {
   "cell_type": "code",
   "execution_count": 11,
   "id": "0165b11a",
   "metadata": {},
   "outputs": [
    {
     "name": "stdout",
     "output_type": "stream",
     "text": [
      "Index(['VIN ', 'County', 'City', 'State', 'Postal_Code', 'Model_Year', 'Make',\n",
      "       'Model', 'Electric_Vehicle_Type', 'CAFV', 'Electric_Range', 'Base_MSRP',\n",
      "       'Legislative_District', 'DOL_Vehicle ID', 'Electric_Utility',\n",
      "       '2020_Census_Tract', 'longitude', 'latitude'],\n",
      "      dtype='object')\n"
     ]
    }
   ],
   "source": [
    "print(df.columns)\n"
   ]
  },
  {
   "cell_type": "markdown",
   "id": "d683bf88",
   "metadata": {},
   "source": [
    "## Vechicles Details Table"
   ]
  },
  {
   "cell_type": "code",
   "execution_count": 12,
   "id": "e3bf130a",
   "metadata": {
    "scrolled": true
   },
   "outputs": [],
   "source": [
    "#load data into vechicles_details\n",
    "def load_data_into_vechicles_details(data):\n",
    "    for index, row in df.iterrows():\n",
    "        cur.execute(\n",
    "            \"\"\"\n",
    "            INSERT INTO vehicle_details(dol_vehicle_id, county, state, city, postal_code, legislative_district, census_tract, longitude, latitude)\n",
    "            VALUES (%s, %s, %s, %s, %s, %s, %s, %s, %s)\n",
    "            ON CONFLICT (dol_vehicle_id) DO NOTHING;\n",
    "            \"\"\",\n",
    "            (row['DOL_Vehicle ID'], row['County'], row['State'], row['City'], row['Postal_Code'], row['Legislative_District'], row['2020_Census_Tract'], row['longitude'], row['latitude'])\n",
    "        )\n",
    "\n",
    "load_data_into_vechicles_details(df)\n",
    "conn.commit()"
   ]
  },
  {
   "cell_type": "markdown",
   "id": "dcb6eb3c",
   "metadata": {},
   "source": [
    "## Vechicles  Table"
   ]
  },
  {
   "cell_type": "code",
   "execution_count": 13,
   "id": "05cbb322",
   "metadata": {},
   "outputs": [],
   "source": [
    "#load data into vechicles\n",
    "def load_data_into_vechicles(data):\n",
    "    for index, row in df.iterrows():\n",
    "        cur.execute(\n",
    "            \"\"\"\n",
    "            INSERT INTO vehicles(dol_vehicle_id, vin, model_year, make, model, electric_vehicle_type, base_msrp, electric_range)\n",
    "            VALUES (%s, %s, %s, %s, %s, %s, %s, %s)\n",
    "            ON CONFLICT (dol_vehicle_id) DO NOTHING;\n",
    "            \"\"\",\n",
    "            (row['DOL_Vehicle ID'], row['VIN '], row['Model_Year'], row['Make'], row['Model'], row['Electric_Vehicle_Type'], row['Base_MSRP'], row['Electric_Range'])\n",
    "        )\n",
    "\n",
    "load_data_into_vechicles(df)\n",
    "conn.commit()"
   ]
  },
  {
   "cell_type": "markdown",
   "id": "758ee2ed",
   "metadata": {},
   "source": [
    "## Utility Providers Table"
   ]
  },
  {
   "cell_type": "code",
   "execution_count": 14,
   "id": "d18a9032",
   "metadata": {},
   "outputs": [],
   "source": [
    "#load data into utility providers\n",
    "def load_data_into_electric_utility(data):\n",
    "    for index, row in df.iterrows():\n",
    "        cur.execute(\n",
    "            \"\"\"\n",
    "            INSERT INTO utility_providers(dol_vehicle_id, electric_utility)\n",
    "            VALUES (%s, %s)\n",
    "            ON CONFLICT (dol_vehicle_id) DO NOTHING;\n",
    "            \"\"\",\n",
    "            (row['DOL_Vehicle ID'], row['Electric_Utility'])\n",
    "        )\n",
    "load_data_into_electric_utility(df)\n",
    "conn.commit()"
   ]
  },
  {
   "cell_type": "markdown",
   "id": "1038a3a5",
   "metadata": {},
   "source": [
    "## CAFV Eligibility Table"
   ]
  },
  {
   "cell_type": "code",
   "execution_count": 15,
   "id": "fb74cd52",
   "metadata": {},
   "outputs": [],
   "source": [
    "#load data into CAFV_Eligibility\n",
    "def load_data_into_CAFV_Eligibility(data):\n",
    "    for index, row in df.iterrows():\n",
    "        cur.execute(\n",
    "            \"\"\"\n",
    "            INSERT INTO CAFV_Eligibility(dol_vehicle_id, cafv)\n",
    "            VALUES (%s, %s)\n",
    "            ON CONFLICT (dol_vehicle_id) DO NOTHING;\n",
    "            \"\"\",\n",
    "            (row['DOL_Vehicle ID'], row['CAFV'])\n",
    "        )\n",
    "load_data_into_CAFV_Eligibility(df)\n",
    "conn.commit()"
   ]
  },
  {
   "cell_type": "code",
   "execution_count": 12,
   "id": "f656579b",
   "metadata": {},
   "outputs": [],
   "source": [
    "cur.close()\n",
    "conn.close()"
   ]
  },
  {
   "cell_type": "code",
   "execution_count": 13,
   "id": "05206b9c",
   "metadata": {},
   "outputs": [],
   "source": [
    "#conn.rollback()"
   ]
  },
  {
   "cell_type": "markdown",
   "id": "320cd5a3",
   "metadata": {},
   "source": [
    "## Searching Functions"
   ]
  },
  {
   "cell_type": "code",
   "execution_count": 5,
   "id": "5e97be2a",
   "metadata": {},
   "outputs": [],
   "source": [
    "query = \"\"\"\n",
    "    select distinct (v.make) from public.vehicles as v\n",
    "\"\"\"   \n",
    "cur.execute(query)\n",
    "    \n",
    "unique_car_make = [row[0] for row in cur.fetchall()]"
   ]
  },
  {
   "cell_type": "code",
   "execution_count": 6,
   "id": "ed6be3b3",
   "metadata": {},
   "outputs": [],
   "source": [
    "def brand_cars_in_counties(car_make):\n",
    "    query = \"\"\"\n",
    "        select vd.county, count(*) AS row_count \n",
    "        from public.vehicles as v join public.vehicle_details as vd\n",
    "        on v.dol_vehicle_id = vd.dol_vehicle_id\n",
    "        where v.make = %s\n",
    "        group by vd.county\n",
    "    \"\"\"\n",
    "    cur.execute(query, (car_make,))\n",
    "\n",
    "    data = cur.fetchall()\n",
    "\n",
    "    return data"
   ]
  },
  {
   "cell_type": "code",
   "execution_count": 7,
   "id": "c4c757c6",
   "metadata": {},
   "outputs": [],
   "source": [
    "def car_models_each(car_make):\n",
    "    query = \"\"\"\n",
    "        select v.model, count(*) AS row_count \n",
    "        from public.vehicles as v join public.vehicle_details as vd\n",
    "        on v.dol_vehicle_id = vd.dol_vehicle_id\n",
    "        where v.make = %s\n",
    "        group by v.model\n",
    "    \"\"\"\n",
    "    cur.execute(query, (car_make,))\n",
    "\n",
    "    data = cur.fetchall()\n",
    "\n",
    "    return data"
   ]
  },
  {
   "cell_type": "code",
   "execution_count": 8,
   "id": "e25991f5",
   "metadata": {},
   "outputs": [],
   "source": [
    "query = \"\"\"\n",
    "    select distinct (vd.county) from public.vehicle_details as vd\n",
    "\"\"\"   \n",
    "cur.execute(query)\n",
    "    \n",
    "unique_county = [row[0] for row in cur.fetchall()]"
   ]
  },
  {
   "cell_type": "code",
   "execution_count": 9,
   "id": "8b6500e6",
   "metadata": {},
   "outputs": [],
   "source": [
    "def car_type_in_county(county_name):\n",
    "    query = \"\"\"\n",
    "        select v.electric_vehicle_type, count(*) AS row_count \n",
    "    from public.vehicles as v join public.vehicle_details as vd\n",
    "    on v.dol_vehicle_id = vd.dol_vehicle_id\n",
    "    where vd.county = %s\n",
    "    group by v.electric_vehicle_type\n",
    "    \"\"\"\n",
    "    cur.execute(query, (county_name,))\n",
    "\n",
    "    data = cur.fetchall()\n",
    "\n",
    "    return data"
   ]
  },
  {
   "cell_type": "markdown",
   "id": "6946dd1f",
   "metadata": {},
   "source": [
    "# Flask Webpage"
   ]
  },
  {
   "cell_type": "code",
   "execution_count": 10,
   "id": "26ec4ed7",
   "metadata": {},
   "outputs": [],
   "source": [
    "app = Flask(__name__)"
   ]
  },
  {
   "cell_type": "code",
   "execution_count": 11,
   "id": "2f22a134",
   "metadata": {},
   "outputs": [
    {
     "name": "stdout",
     "output_type": "stream",
     "text": [
      " * Serving Flask app \"__main__\" (lazy loading)\n",
      " * Environment: production\n",
      "\u001b[31m   WARNING: This is a development server. Do not use it in a production deployment.\u001b[0m\n",
      "\u001b[2m   Use a production WSGI server instead.\u001b[0m\n",
      " * Debug mode: off\n"
     ]
    },
    {
     "name": "stderr",
     "output_type": "stream",
     "text": [
      " * Running on http://localhost:5001/ (Press CTRL+C to quit)\n",
      "127.0.0.1 - - [21/Apr/2024 21:20:50] \"GET / HTTP/1.1\" 200 -\n",
      "127.0.0.1 - - [21/Apr/2024 21:20:50] \"GET /static/ev2.jpg HTTP/1.1\" 200 -\n",
      "127.0.0.1 - - [21/Apr/2024 21:20:50] \"GET /static/ev1.jpg HTTP/1.1\" 200 -\n",
      "127.0.0.1 - - [21/Apr/2024 21:20:50] \"GET /static/ev3.jpg HTTP/1.1\" 200 -\n",
      "127.0.0.1 - - [21/Apr/2024 21:20:51] \"GET /favicon.ico HTTP/1.1\" 404 -\n",
      "127.0.0.1 - - [21/Apr/2024 21:20:53] \"GET /brand_counties HTTP/1.1\" 200 -\n",
      "127.0.0.1 - - [21/Apr/2024 21:20:56] \"POST /brand_counties HTTP/1.1\" 200 -\n",
      "127.0.0.1 - - [21/Apr/2024 21:20:58] \"POST /brand_counties HTTP/1.1\" 200 -\n",
      "127.0.0.1 - - [21/Apr/2024 21:20:59] \"GET / HTTP/1.1\" 200 -\n",
      "127.0.0.1 - - [21/Apr/2024 21:21:00] \"GET /brand_models HTTP/1.1\" 200 -\n",
      "127.0.0.1 - - [21/Apr/2024 21:21:02] \"POST /brand_models HTTP/1.1\" 200 -\n",
      "127.0.0.1 - - [21/Apr/2024 21:21:04] \"GET / HTTP/1.1\" 200 -\n",
      "127.0.0.1 - - [21/Apr/2024 21:23:55] \"GET /brand_counties HTTP/1.1\" 200 -\n",
      "127.0.0.1 - - [21/Apr/2024 21:24:01] \"POST /brand_counties HTTP/1.1\" 200 -\n",
      "127.0.0.1 - - [21/Apr/2024 21:24:19] \"POST /brand_counties HTTP/1.1\" 200 -\n",
      "127.0.0.1 - - [21/Apr/2024 21:24:22] \"GET / HTTP/1.1\" 200 -\n",
      "127.0.0.1 - - [21/Apr/2024 21:24:24] \"GET /brand_models HTTP/1.1\" 200 -\n",
      "127.0.0.1 - - [21/Apr/2024 21:24:26] \"POST /brand_models HTTP/1.1\" 200 -\n",
      "127.0.0.1 - - [21/Apr/2024 21:24:29] \"POST /brand_models HTTP/1.1\" 200 -\n",
      "127.0.0.1 - - [21/Apr/2024 21:24:36] \"POST /brand_models HTTP/1.1\" 200 -\n",
      "127.0.0.1 - - [21/Apr/2024 21:24:39] \"POST /brand_models HTTP/1.1\" 200 -\n",
      "127.0.0.1 - - [21/Apr/2024 21:24:46] \"GET / HTTP/1.1\" 200 -\n",
      "127.0.0.1 - - [21/Apr/2024 21:24:48] \"GET /vehicle_types_counties HTTP/1.1\" 200 -\n",
      "127.0.0.1 - - [21/Apr/2024 21:24:50] \"POST /vehicle_types_counties HTTP/1.1\" 200 -\n",
      "127.0.0.1 - - [21/Apr/2024 21:24:53] \"POST /vehicle_types_counties HTTP/1.1\" 200 -\n",
      "127.0.0.1 - - [21/Apr/2024 21:24:56] \"POST /vehicle_types_counties HTTP/1.1\" 200 -\n",
      "127.0.0.1 - - [21/Apr/2024 21:25:01] \"POST /vehicle_types_counties HTTP/1.1\" 200 -\n",
      "127.0.0.1 - - [21/Apr/2024 21:25:04] \"POST /vehicle_types_counties HTTP/1.1\" 200 -\n",
      "127.0.0.1 - - [21/Apr/2024 21:25:09] \"POST /vehicle_types_counties HTTP/1.1\" 200 -\n",
      "127.0.0.1 - - [21/Apr/2024 21:25:10] \"GET / HTTP/1.1\" 200 -\n"
     ]
    }
   ],
   "source": [
    "@app.route('/')\n",
    "def home_page():\n",
    "    return render_template('home_page.html')\n",
    "\n",
    "@app.route('/brand_counties', methods=['GET', 'POST'])\n",
    "def brand_counties():\n",
    "    if request.method == 'POST':\n",
    "        # If the form is submitted\n",
    "        car_brand = request.form.get('car_brand')\n",
    "        if car_brand:\n",
    "            # Call the function to fetch data for the selected car brand\n",
    "            data = brand_cars_in_counties(car_brand)\n",
    "        else:\n",
    "            data = []\n",
    "        # Render the template with the data and the selected brand\n",
    "        return render_template('brand_counties.html', selected_brand=car_brand, data=data, car_brands=unique_car_make)\n",
    "    else:\n",
    "        # If it's a GET request, render the initial form\n",
    "        car_brands = unique_car_make\n",
    "        return render_template('brand_counties.html', car_brands=car_brands)\n",
    "\n",
    "@app.route('/brand_models', methods=['GET', 'POST'])\n",
    "def brand_models():\n",
    "    if request.method == 'POST':\n",
    "        # If the form is submitted\n",
    "        car_brand = request.form.get('car_brand')\n",
    "        if car_brand:\n",
    "            # Call the function to fetch data for the selected car brand\n",
    "            data = car_models_each(car_brand)\n",
    "        else:\n",
    "            data = []\n",
    "        # Render the template with the data and the selected brand\n",
    "        return render_template('brand_models.html', selected_brand=car_brand, data=data, car_brands=unique_car_make)\n",
    "    else:\n",
    "        # If it's a GET request, render the initial form\n",
    "        car_brands = unique_car_make\n",
    "        return render_template('brand_models.html', car_brands=car_brands)\n",
    "\n",
    "@app.route('/vehicle_types_counties', methods=['GET', 'POST'])\n",
    "def vehicle_types_counties():\n",
    "    if request.method == 'POST':\n",
    "        # If the form is submitted\n",
    "        county_name = request.form.get('county_name')\n",
    "        if county_name:\n",
    "            # Call the function to fetch data for the selected car brand\n",
    "            data = car_type_in_county(county_name)\n",
    "        else:\n",
    "            data = []\n",
    "        # Render the template with the data and the selected brand\n",
    "        return render_template('vehicle_types_counties.html', selected_county=county_name, data=data, county_names=unique_county)\n",
    "    else:\n",
    "        # If it's a GET request, render the initial form\n",
    "        county_names=unique_county\n",
    "        return render_template('vehicle_types_counties.html', county_names=county_names)\n",
    "\n",
    "if __name__ == '__main__':\n",
    "    app.run(host=\"localhost\", port=5001)\n"
   ]
  }
 ],
 "metadata": {
  "kernelspec": {
   "display_name": "Python 3 (ipykernel)",
   "language": "python",
   "name": "python3"
  },
  "language_info": {
   "codemirror_mode": {
    "name": "ipython",
    "version": 3
   },
   "file_extension": ".py",
   "mimetype": "text/x-python",
   "name": "python",
   "nbconvert_exporter": "python",
   "pygments_lexer": "ipython3",
   "version": "3.9.7"
  }
 },
 "nbformat": 4,
 "nbformat_minor": 5
}
